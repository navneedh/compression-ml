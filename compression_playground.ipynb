{
 "cells": [
  {
   "cell_type": "code",
   "execution_count": 5,
   "metadata": {},
   "outputs": [],
   "source": [
    "%reload_ext autoreload\n",
    "%autoreload 2\n",
    "from fastprogress import master_bar, progress_bar\n",
    "\n",
    "import torch\n",
    "import torch.nn as nn\n",
    "import torch.optim as optim\n",
    "import torch.nn.functional as F\n",
    "import torch.backends.cudnn as cudnn\n",
    "\n",
    "import torchvision\n",
    "import torchvision.transforms as transforms\n",
    "\n",
    "import os \n",
    "from tqdm import tqdm\n",
    "import numpy as np\n",
    "import matplotlib.pyplot as plt\n",
    "from functools import reduce\n",
    "\n",
    "from tinyimagenet_models.vgg import *\n",
    "from utils.dataset import *\n",
    "from utils.image_utils import *\n",
    "device = \"cuda\" if torch.cuda.is_available() else \"cpu\"\n",
    "\n",
    "plt.rcParams[\"font.family\"] = \"serif\"\n",
    "plt.rcParams['font.size'] = 13"
   ]
  },
  {
   "cell_type": "code",
   "execution_count": 6,
   "metadata": {},
   "outputs": [],
   "source": [
    "def pytorch_count_params(model):\n",
    "  \"count number trainable parameters in a pytorch model\"\n",
    "  total_params = sum(reduce( lambda a, b: a*b, x.size()) for x in model.parameters())\n",
    "  return total_params\n",
    "\n",
    "transform_train = transforms.Compose([\n",
    "        transforms.RandomRotation(20),\n",
    "        transforms.RandomHorizontalFlip(0.5),\n",
    "        transforms.ToTensor(),\n",
    "        transforms.Normalize([0.4802, 0.4481, 0.3975], [0.2302, 0.2265, 0.2262]),\n",
    "])\n",
    "\n",
    "# Might need a different transform \n",
    "\n",
    "transform_test = transforms.Compose(\n",
    "    [\n",
    "        transforms.ToTensor(),\n",
    "        transforms.Normalize([0.4802, 0.4481, 0.3975], [0.2302, 0.2265, 0.2262]),\n",
    "    ]\n",
    ")\n",
    "\n",
    "BATCH_SIZE = 300\n",
    "EPOCHS = 40"
   ]
  },
  {
   "cell_type": "markdown",
   "metadata": {},
   "source": [
    "## Load dataset and create dataloader"
   ]
  },
  {
   "cell_type": "code",
   "execution_count": 7,
   "metadata": {},
   "outputs": [],
   "source": [
    "exp_name = \"vgg13_base\"\n",
    "train_dset = ClassificationDataset(\"\", \"tiny\", train = True, transform = transform_train)\n",
    "test_dset = ClassificationDataset(\"\", \"tiny\", train = False, transform = transform_test)\n",
    "\n",
    "train_loader = DataLoader(train_dset, batch_size = BATCH_SIZE, shuffle = True)\n",
    "test_loader = DataLoader(test_dset, batch_size = BATCH_SIZE, shuffle = False)"
   ]
  },
  {
   "cell_type": "markdown",
   "metadata": {},
   "source": [
    "## Load Model"
   ]
  },
  {
   "cell_type": "code",
   "execution_count": 9,
   "metadata": {},
   "outputs": [
    {
     "name": "stdout",
     "output_type": "stream",
     "text": [
      "14050248\n"
     ]
    }
   ],
   "source": [
    "net = VGG('VGG11').to(device)\n",
    "# net = ResNet18().to(device)\n",
    "print(pytorch_count_params(net))"
   ]
  },
  {
   "cell_type": "markdown",
   "metadata": {},
   "source": [
    "## Model Training"
   ]
  },
  {
   "cell_type": "code",
   "execution_count": null,
   "metadata": {},
   "outputs": [
    {
     "data": {
      "text/html": [
       "\n",
       "    <div>\n",
       "        <style>\n",
       "            /* Turns off some styling */\n",
       "            progress {\n",
       "                /* gets rid of default border in Firefox and Opera. */\n",
       "                border: none;\n",
       "                /* Needs to be in here for Safari polyfill so background images work as expected. */\n",
       "                background-size: auto;\n",
       "            }\n",
       "            .progress-bar-interrupted, .progress-bar-interrupted::-webkit-progress-bar {\n",
       "                background: #F44336;\n",
       "            }\n",
       "        </style>\n",
       "      <progress value='34' class='' max='40' style='width:300px; height:20px; vertical-align: middle;'></progress>\n",
       "      85.00% [34/40 40:59<07:14]\n",
       "    </div>\n",
       "    "
      ],
      "text/plain": [
       "<IPython.core.display.HTML object>"
      ]
     },
     "metadata": {},
     "output_type": "display_data"
    },
    {
     "name": "stdout",
     "output_type": "stream",
     "text": [
      "0.0151\n",
      "0.0352\n",
      "0.0754\n",
      "0.1419\n",
      "0.1724\n",
      "0.1989\n",
      "0.2491\n",
      "0.2802\n",
      "0.2919\n",
      "0.3089\n",
      "0.3137\n",
      "0.3555\n",
      "0.3592\n",
      "0.367\n",
      "0.3845\n",
      "0.3871\n",
      "0.4076\n",
      "0.4267\n"
     ]
    }
   ],
   "source": [
    "def train(trainloader):\n",
    "    criterion = nn.CrossEntropyLoss(reduction='mean')\n",
    "    optimizer = optim.SGD(net.parameters(), lr=0.1, momentum=0.9, weight_decay=5e-4)\n",
    "#     optimizer = optim.Adam(net.parameters(), lr = 0.1)\n",
    "    net.train()\n",
    "    train_loss = 0\n",
    "    correct = 0\n",
    "    total = 0\n",
    "    \n",
    "    accuracy = []\n",
    "    losses = []\n",
    "    \n",
    "    for batch_idx, (inputs, targets) in enumerate(trainloader):\n",
    "        inputs, targets = inputs.to(device), targets.to(device)\n",
    "        optimizer.zero_grad()\n",
    "        outputs = net(inputs)\n",
    "        loss = criterion(outputs, targets)\n",
    "        loss.backward()\n",
    "        optimizer.step()\n",
    "\n",
    "        train_loss += loss.item()\n",
    "        _, predicted = outputs.max(1)\n",
    "        total += targets.size(0)\n",
    "        correct += predicted.eq(targets).sum().item()\n",
    "\n",
    "    return correct/total, train_loss/(100000/BATCH_SIZE) \n",
    "\n",
    "def test(testloader):\n",
    "    softmax_output = nn.Softmax()\n",
    "    criterion = nn.CrossEntropyLoss()\n",
    "    metrics = []\n",
    "    net.eval()\n",
    "    test_loss = 0\n",
    "    correct = 0\n",
    "    total = 0\n",
    "    with torch.no_grad():\n",
    "        for batch_idx, (inputs, targets) in enumerate(testloader):\n",
    "            inputs, targets = inputs.to(device), targets.to(device)\n",
    "            outputs = net(inputs)\n",
    "\n",
    "            loss = criterion(outputs, targets)\n",
    "            test_loss += loss.item()\n",
    "            _, predicted = outputs.max(1)\n",
    "            total += targets.size(0)\n",
    "            correct += predicted.eq(targets).sum().item()\n",
    "        return correct/total, test_loss/(10000/BATCH_SIZE) \n",
    "\n",
    "train_acc, train_loss, test_acc, test_loss = [], [], [], []\n",
    "max_test_acc = 0\n",
    "for epoch in progress_bar(range(EPOCHS)):    \n",
    "  train_a, train_l = train(train_loader)\n",
    "  test_a, test_l = test(test_loader)\n",
    "\n",
    "  if test_a > max_test_acc:\n",
    "    max_test_acc = test_a \n",
    "    model_state = net.state_dict()\n",
    "    print(test_a)\n",
    "\n",
    "  train_acc.append(train_a)\n",
    "  train_loss.append(train_l)\n",
    "  test_acc.append(test_a)\n",
    "  test_loss.append(test_l)\n",
    "print(\"Train Accuracy: {}, Test Accuracy: {}\".format(train_a, test_a))\n",
    "\n",
    "np.savez(\"exp_results/{}.npz\".format(exp_name), train_acc=train_acc, train_loss=train_loss, test_acc=test_acc, test_loss=test_loss)\n",
    "# torch.save(model_state, \"saved_models/{}.pt\".format(exp_name))"
   ]
  },
  {
   "cell_type": "code",
   "execution_count": 7,
   "metadata": {},
   "outputs": [],
   "source": []
  },
  {
   "cell_type": "code",
   "execution_count": 8,
   "metadata": {},
   "outputs": [
    {
     "data": {
      "text/plain": [
       "[<matplotlib.lines.Line2D at 0x7fb7b9502438>]"
      ]
     },
     "execution_count": 8,
     "metadata": {},
     "output_type": "execute_result"
    },
    {
     "data": {
      "image/png": "[encoded data removed]",
      "text/plain": [
       "<Figure size 432x288 with 1 Axes>"
      ]
     },
     "metadata": {
      "needs_background": "light"
     },
     "output_type": "display_data"
    }
   ],
   "source": [
    "plt.plot(train_acc)"
   ]
  },
  {
   "cell_type": "code",
   "execution_count": 9,
   "metadata": {},
   "outputs": [
    {
     "data": {
      "text/plain": [
       "[<matplotlib.lines.Line2D at 0x7fb7b979b668>]"
      ]
     },
     "execution_count": 9,
     "metadata": {},
     "output_type": "execute_result"
    },
    {
     "data": {
      "image/png": "[encoded data removed]",
      "text/plain": [
       "<Figure size 432x288 with 1 Axes>"
      ]
     },
     "metadata": {
      "needs_background": "light"
     },
     "output_type": "display_data"
    }
   ],
   "source": [
    "plt.plot(test_acc)"
   ]
  },
  {
   "cell_type": "code",
   "execution_count": null,
   "metadata": {},
   "outputs": [],
   "source": [
    "tiny_jpeg_bpp = [1.06, 1.5, 2.38, 3.73, 5.59, 9.29]\n",
    "tiny_bls_bpp = [0.257, 0.606, 0.859, 1.206, 1.596, 1.744 ]\n",
    "tiny_full_bls_bpp = [1.364, 2.78, 3.79, 5.182, 6.743, 7.335]"
   ]
  }
 ],
 "metadata": {
  "kernelspec": {
   "display_name": "Python 3",
   "language": "python",
   "name": "python3"
  },
  "language_info": {
   "codemirror_mode": {
    "name": "ipython",
    "version": 3
   },
   "file_extension": ".py",
   "mimetype": "text/x-python",
   "name": "python",
   "nbconvert_exporter": "python",
   "pygments_lexer": "ipython3",
   "version": "3.7.3"
  }
 },
 "nbformat": 4,
 "nbformat_minor": 4
}
