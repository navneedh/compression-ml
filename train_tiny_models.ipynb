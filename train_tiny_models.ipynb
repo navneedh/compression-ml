{
 "cells": [
  {
   "cell_type": "code",
   "execution_count": 1,
   "metadata": {},
   "outputs": [],
   "source": [
    "%reload_ext autoreload\n",
    "%autoreload 2\n",
    "from fastprogress import master_bar, progress_bar\n",
    "\n",
    "import torch\n",
    "import torch.nn as nn\n",
    "import torch.optim as optim\n",
    "import torch.nn.functional as F\n",
    "import torch.backends.cudnn as cudnn\n",
    "\n",
    "import torchvision\n",
    "import torchvision.transforms as transforms\n",
    "\n",
    "import os \n",
    "from tqdm import tqdm\n",
    "import numpy as np\n",
    "import matplotlib.pyplot as plt\n",
    "from functools import reduce\n",
    "\n",
    "from tinyimagenet_models.vgg import *\n",
    "from utils.dataset import *\n",
    "from utils.image_utils import *\n",
    "device = \"cuda\" if torch.cuda.is_available() else \"cpu\"\n",
    "\n",
    "plt.rcParams[\"font.family\"] = \"serif\"\n",
    "plt.rcParams['font.size'] = 13"
   ]
  },
  {
   "cell_type": "code",
   "execution_count": 2,
   "metadata": {},
   "outputs": [],
   "source": [
    "def pytorch_count_params(model):\n",
    "  \"count number trainable parameters in a pytorch model\"\n",
    "  total_params = sum(reduce( lambda a, b: a*b, x.size()) for x in model.parameters())\n",
    "  return total_params\n",
    "\n",
    "transform_train = transforms.Compose([\n",
    "        transforms.RandomRotation(20),\n",
    "        transforms.RandomHorizontalFlip(0.5),\n",
    "        transforms.ToTensor(),\n",
    "        transforms.Normalize([0.4802, 0.4481, 0.3975], [0.2302, 0.2265, 0.2262]),\n",
    "])\n",
    "\n",
    "# Might need a different transform \n",
    "\n",
    "transform_test = transforms.Compose(\n",
    "    [\n",
    "        transforms.ToTensor(),\n",
    "        transforms.Normalize([0.4802, 0.4481, 0.3975], [0.2302, 0.2265, 0.2262]),\n",
    "    ]\n",
    ")\n",
    "\n",
    "BATCH_SIZE = 300\n",
    "EPOCHS = 30"
   ]
  },
  {
   "cell_type": "markdown",
   "metadata": {},
   "source": [
    "## Load dataset and create dataloader"
   ]
  },
  {
   "cell_type": "code",
   "execution_count": 28,
   "metadata": {},
   "outputs": [],
   "source": [
    "exp_name = \"vgg11_jpeg60\"\n",
    "train_dset = ClassificationDataset(\"_jpeg_60\", \"tiny\", train = True, transform = transform_train)\n",
    "test_dset = ClassificationDataset(\"\", \"tiny\", train = False, transform = transform_test)\n",
    "\n",
    "train_loader = DataLoader(train_dset, batch_size = BATCH_SIZE, shuffle = True)\n",
    "test_loader = DataLoader(test_dset, batch_size = BATCH_SIZE, shuffle = False)"
   ]
  },
  {
   "cell_type": "markdown",
   "metadata": {},
   "source": [
    "## Load Model"
   ]
  },
  {
   "cell_type": "code",
   "execution_count": 29,
   "metadata": {},
   "outputs": [
    {
     "name": "stdout",
     "output_type": "stream",
     "text": [
      "11689416\n"
     ]
    }
   ],
   "source": [
    "net = VGG('VGG11').to(device)\n",
    "# net = ResNet18().to(device)\n",
    "print(pytorch_count_params(net))"
   ]
  },
  {
   "cell_type": "markdown",
   "metadata": {},
   "source": [
    "## Model Training"
   ]
  },
  {
   "cell_type": "code",
   "execution_count": 30,
   "metadata": {},
   "outputs": [
    {
     "data": {
      "text/html": [
       "\n",
       "    <div>\n",
       "        <style>\n",
       "            /* Turns off some styling */\n",
       "            progress {\n",
       "                /* gets rid of default border in Firefox and Opera. */\n",
       "                border: none;\n",
       "                /* Needs to be in here for Safari polyfill so background images work as expected. */\n",
       "                background-size: auto;\n",
       "            }\n",
       "            .progress-bar-interrupted, .progress-bar-interrupted::-webkit-progress-bar {\n",
       "                background: #F44336;\n",
       "            }\n",
       "        </style>\n",
       "      <progress value='1' class='' max='1' style='width:300px; height:20px; vertical-align: middle;'></progress>\n",
       "      100.00% [1/1 49:55<00:00]\n",
       "    </div>\n",
       "    "
      ],
      "text/plain": [
       "<IPython.core.display.HTML object>"
      ]
     },
     "metadata": {},
     "output_type": "display_data"
    },
    {
     "data": {
      "text/html": [
       "\n",
       "    <div>\n",
       "        <style>\n",
       "            /* Turns off some styling */\n",
       "            progress {\n",
       "                /* gets rid of default border in Firefox and Opera. */\n",
       "                border: none;\n",
       "                /* Needs to be in here for Safari polyfill so background images work as expected. */\n",
       "                background-size: auto;\n",
       "            }\n",
       "            .progress-bar-interrupted, .progress-bar-interrupted::-webkit-progress-bar {\n",
       "                background: #F44336;\n",
       "            }\n",
       "        </style>\n",
       "      <progress value='30' class='' max='30' style='width:300px; height:20px; vertical-align: middle;'></progress>\n",
       "      100.00% [30/30 49:55<00:00]\n",
       "    </div>\n",
       "    "
      ],
      "text/plain": [
       "<IPython.core.display.HTML object>"
      ]
     },
     "metadata": {},
     "output_type": "display_data"
    },
    {
     "name": "stdout",
     "output_type": "stream",
     "text": [
      "0.0271 0.1129\n",
      "0.0748 0.2367\n",
      "0.1609 0.3981\n",
      "0.1836 0.4323\n",
      "0.1967 0.4405\n",
      "0.2284 0.4841\n",
      "0.2672 0.5364\n",
      "0.3058 0.5829\n",
      "0.3633 0.6343\n",
      "0.3554 0.6345\n",
      "0.3711 0.6452\n",
      "0.3885 0.6536\n",
      "0.39 0.6585\n",
      "0.4162 0.6797\n",
      "Train Accuracy: 0.61338, Test Accuracy: 0.3553\n"
     ]
    }
   ],
   "source": [
    "def train(trainloader):\n",
    "    criterion = nn.CrossEntropyLoss(reduction='mean')\n",
    "    optimizer = optim.SGD(net.parameters(), lr=0.1, momentum=0.9, weight_decay=5e-4)\n",
    "#     optimizer = optim.Adam(net.parameters(), lr = 0.1)\n",
    "    net.train()\n",
    "    train_loss = 0\n",
    "    correct = 0\n",
    "    total = 0\n",
    "    \n",
    "    accuracy = []\n",
    "    losses = []\n",
    "    \n",
    "    for batch_idx, (inputs, targets) in enumerate(trainloader):\n",
    "        inputs, targets = inputs.to(device), targets.to(device)\n",
    "        optimizer.zero_grad()\n",
    "        outputs = net(inputs)\n",
    "        loss = criterion(outputs, targets)\n",
    "        loss.backward()\n",
    "        optimizer.step()\n",
    "\n",
    "        train_loss += loss.item()\n",
    "        _, predicted = outputs.max(1)\n",
    "        total += targets.size(0)\n",
    "        correct += predicted.eq(targets).sum().item()\n",
    "\n",
    "    return correct/total, train_loss/(100000/BATCH_SIZE) \n",
    "\n",
    "def test(testloader):\n",
    "    softmax_output = nn.Softmax()\n",
    "    criterion = nn.CrossEntropyLoss()\n",
    "    metrics = []\n",
    "    net.eval()\n",
    "    test_loss = 0\n",
    "    correct = 0\n",
    "    total = 0\n",
    "    correct_top5 = 0\n",
    "    with torch.no_grad():\n",
    "        for batch_idx, (inputs, targets) in enumerate(testloader):\n",
    "            inputs, targets = inputs.to(device), targets.to(device)\n",
    "            outputs = net(inputs)\n",
    "\n",
    "            loss = criterion(outputs, targets)\n",
    "            test_loss += loss.item()\n",
    "            _, predicted = outputs.max(1)\n",
    "            \n",
    "            top5_values, top5_ind = torch.topk(outputs, 5, dim = 1)\n",
    "            f = top5_ind.transpose(0,1) - targets\n",
    "            zero_elems = torch.numel(f) - torch.count_nonzero(f)\n",
    "            total += targets.size(0)\n",
    "            correct += predicted.eq(targets).sum().item()\n",
    "            correct_top5 += zero_elems.item()\n",
    "        return correct/total, correct_top5/total \n",
    "\n",
    "    \n",
    "RUNS = 1\n",
    "\n",
    "all_train_acc = []\n",
    "all_test_acc = []\n",
    "all_top5_acc = []\n",
    "max_test_acc = 0\n",
    "for run in progress_bar(range(RUNS)):\n",
    "    train_acc, train_loss, test_acc, test_top5 = [], [], [], []\n",
    "    net = VGG('VGG11').to(device)\n",
    "    max_test_acc = 0\n",
    "    for epoch in progress_bar(range(EPOCHS)):    \n",
    "      train_a, train_l = train(train_loader)\n",
    "      test_a, test_a5 = test(test_loader)\n",
    "\n",
    "      if test_a5 > max_test_acc:\n",
    "        max_test_acc = test_a5 \n",
    "        model_state = net.state_dict()\n",
    "        print(test_a, test_a5)\n",
    "\n",
    "      train_acc.append(train_a)\n",
    "      train_loss.append(train_l)\n",
    "      test_acc.append(test_a)\n",
    "      test_top5.append(test_a5)\n",
    "    print(\"Train Accuracy: {}, Test Accuracy: {}\".format(train_a, test_a))\n",
    "    all_train_acc.append(train_acc)\n",
    "    all_test_acc.append(test_acc)\n",
    "    all_top5_acc.append(test_top5)\n",
    "\n",
    "np.savez(\"exp_results/{}.npz\".format(exp_name), train_acc=all_train_acc, train_loss=train_loss, test_acc=all_test_acc, test_top5_acc=all_top5_acc)\n",
    "torch.save(model_state, \"saved_models/{}.pt\".format(exp_name))"
   ]
  },
  {
   "cell_type": "code",
   "execution_count": 13,
   "metadata": {},
   "outputs": [
    {
     "data": {
      "text/plain": [
       "[<matplotlib.lines.Line2D at 0x7fadd182d898>]"
      ]
     },
     "execution_count": 13,
     "metadata": {},
     "output_type": "execute_result"
    },
    {
     "data": {
      "image/png": "[encoded data removed]",
      "text/plain": [
       "<Figure size 432x288 with 1 Axes>"
      ]
     },
     "metadata": {
      "needs_background": "light"
     },
     "output_type": "display_data"
    }
   ],
   "source": [
    "plt.plot(test_top5)"
   ]
  },
  {
   "cell_type": "code",
   "execution_count": null,
   "metadata": {},
   "outputs": [],
   "source": []
  },
  {
   "cell_type": "code",
   "execution_count": 11,
   "metadata": {},
   "outputs": [
    {
     "data": {
      "text/plain": [
       "[<matplotlib.lines.Line2D at 0x7f908f823a58>]"
      ]
     },
     "execution_count": 11,
     "metadata": {},
     "output_type": "execute_result"
    },
    {
     "data": {
      "image/png": "[encoded data removed]",
      "text/plain": [
       "<Figure size 432x288 with 1 Axes>"
      ]
     },
     "metadata": {
      "needs_background": "light"
     },
     "output_type": "display_data"
    }
   ],
   "source": [
    "plt.plot(np.mean(all_train_acc, 0))"
   ]
  },
  {
   "cell_type": "code",
   "execution_count": 12,
   "metadata": {},
   "outputs": [
    {
     "data": {
      "text/plain": [
       "[<matplotlib.lines.Line2D at 0x7f908f6caa20>]"
      ]
     },
     "execution_count": 12,
     "metadata": {},
     "output_type": "execute_result"
    },
    {
     "data": {
      "image/png": "[encoded data removed]",
      "text/plain": [
       "<Figure size 432x288 with 1 Axes>"
      ]
     },
     "metadata": {
      "needs_background": "light"
     },
     "output_type": "display_data"
    }
   ],
   "source": [
    "plt.plot(np.mean(all_test_acc, 0))"
   ]
  },
  {
   "cell_type": "code",
   "execution_count": 13,
   "metadata": {},
   "outputs": [
    {
     "data": {
      "text/plain": [
       "[<matplotlib.lines.Line2D at 0x7f908f78c668>]"
      ]
     },
     "execution_count": 13,
     "metadata": {},
     "output_type": "execute_result"
    },
    {
     "data": {
      "image/png": "[encoded data removed]",
      "text/plain": [
       "<Figure size 432x288 with 1 Axes>"
      ]
     },
     "metadata": {
      "needs_background": "light"
     },
     "output_type": "display_data"
    }
   ],
   "source": [
    "plt.plot(np.mean(all_top5_acc, 0))"
   ]
  },
  {
   "cell_type": "code",
   "execution_count": null,
   "metadata": {},
   "outputs": [],
   "source": [
    "tiny_jpeg_bpp = [1.06, 1.5, 2.38, 3.73, 5.59, 9.29]\n",
    "tiny_bls_bpp = [0.257, 0.606, 0.859, 1.206, 1.596, 1.744 ]\n",
    "tiny_full_bls_bpp = [1.364, 2.78, 3.79, 5.182, 6.743, 7.335]"
   ]
  }
 ],
 "metadata": {
  "kernelspec": {
   "display_name": "Python 3",
   "language": "python",
   "name": "python3"
  },
  "language_info": {
   "codemirror_mode": {
    "name": "ipython",
    "version": 3
   },
   "file_extension": ".py",
   "mimetype": "text/x-python",
   "name": "python",
   "nbconvert_exporter": "python",
   "pygments_lexer": "ipython3",
   "version": "3.7.3"
  }
 },
 "nbformat": 4,
 "nbformat_minor": 4
}
