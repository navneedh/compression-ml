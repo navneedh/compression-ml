{
 "cells": [
  {
   "cell_type": "code",
   "execution_count": 4,
   "metadata": {},
   "outputs": [],
   "source": [
    "from utils.compression_compare import *\n",
    "import matplotlib.pyplot as plt\n",
    "plt.rcParams[\"font.family\"] = \"serif\"\n",
    "plt.rcParams['font.size'] = 13"
   ]
  },
  {
   "cell_type": "code",
   "execution_count": 6,
   "metadata": {},
   "outputs": [
    {
     "name": "stderr",
     "output_type": "stream",
     "text": [
      "100%|██████████| 10000/10000 [00:13<00:00, 755.27it/s]\n",
      "100%|██████████| 10000/10000 [00:13<00:00, 756.22it/s]\n",
      "100%|██████████| 10000/10000 [00:13<00:00, 760.40it/s]\n",
      "100%|██████████| 10000/10000 [00:13<00:00, 755.38it/s]\n",
      "100%|██████████| 10000/10000 [00:13<00:00, 752.88it/s]\n",
      "100%|██████████| 10000/10000 [00:13<00:00, 752.08it/s]\n",
      "100%|██████████| 10000/10000 [00:13<00:00, 745.40it/s]\n",
      "100%|██████████| 10000/10000 [00:13<00:00, 753.76it/s]\n"
     ]
    }
   ],
   "source": [
    "metric = \"ssim\"\n",
    "data_folder = \"/media/expansion1/navneedhmaudgalya/Datasets/cifar\"\n",
    "\n",
    "test = data_folder + \"/test\"\n",
    "jpeg_1 = data_folder + \"/test_jpeg_1\"\n",
    "jpeg_5 = data_folder + \"/test_jpeg_5\"\n",
    "jpeg_10 = data_folder + \"/test_jpeg_10\"\n",
    "jpeg_20 = data_folder + \"/test_jpeg_20\"\n",
    "jpeg_40 = data_folder + \"/test_jpeg_40\"\n",
    "jpeg_60 = data_folder + \"/test_jpeg_60\"\n",
    "jpeg_80 = data_folder + \"/test_jpeg_80\"\n",
    "jpeg_90 = data_folder + \"/test_jpeg_90\"\n",
    "\n",
    "jpeg_1_res = get_metrics(test, jpeg_1, metric)\n",
    "jpeg_5_res = get_metrics(test, jpeg_5, metric)\n",
    "jpeg_10_res = get_metrics(test, jpeg_10, metric)\n",
    "jpeg_20_res = get_metrics(test, jpeg_20, metric)\n",
    "jpeg_40_res = get_metrics(test, jpeg_40, metric)\n",
    "jpeg_60_res = get_metrics(test, jpeg_60, metric)\n",
    "jpeg_80_res = get_metrics(test, jpeg_80, metric)\n",
    "jpeg_90_res = get_metrics(test, jpeg_90, metric)\n",
    "\n",
    "all_jpeg_res = [jpeg_1_res, jpeg_5_res, jpeg_10_res, jpeg_20_res, jpeg_40_res, jpeg_60_res, jpeg_80_res]"
   ]
  },
  {
   "cell_type": "code",
   "execution_count": 7,
   "metadata": {},
   "outputs": [
    {
     "name": "stderr",
     "output_type": "stream",
     "text": [
      "100%|██████████| 10000/10000 [00:13<00:00, 740.10it/s]\n",
      "100%|██████████| 10000/10000 [00:13<00:00, 741.10it/s]\n",
      "100%|██████████| 10000/10000 [00:13<00:00, 743.36it/s]\n",
      "100%|██████████| 10000/10000 [00:13<00:00, 741.52it/s]\n",
      "100%|██████████| 10000/10000 [00:13<00:00, 739.41it/s]\n",
      "100%|██████████| 10000/10000 [00:13<00:00, 737.95it/s]\n",
      "100%|██████████| 10000/10000 [00:13<00:00, 737.34it/s]\n",
      "100%|██████████| 10000/10000 [00:13<00:00, 732.06it/s]\n",
      "100%|██████████| 10000/10000 [00:13<00:00, 738.21it/s]\n",
      "100%|██████████| 10000/10000 [00:13<00:00, 736.68it/s]\n",
      "100%|██████████| 10000/10000 [00:13<00:00, 732.00it/s]\n",
      "100%|██████████| 10000/10000 [00:13<00:00, 737.09it/s]\n",
      "100%|██████████| 10000/10000 [00:13<00:00, 733.09it/s]\n",
      "100%|██████████| 10000/10000 [00:13<00:00, 737.41it/s]\n",
      "100%|██████████| 10000/10000 [00:13<00:00, 735.19it/s]\n"
     ]
    }
   ],
   "source": [
    "bls_001 = data_folder + \"/test_bls_001\"\n",
    "bls_002 = data_folder + \"/test_bls_002\"\n",
    "bls_003 = data_folder + \"/test_bls_003\"\n",
    "bls_004 = data_folder + \"/test_bls_004\"\n",
    "bls_005 = data_folder + \"/test_bls_005\"\n",
    "bls_006 = data_folder + \"/test_bls_006\"\n",
    "bls_007 = data_folder + \"/test_bls_007\"\n",
    "bls_009 = data_folder + \"/test_bls_009\"\n",
    "bls_012 = data_folder + \"/test_bls_012\"\n",
    "bls_014 = data_folder + \"/test_bls_014\"\n",
    "bls_017 = data_folder + \"/test_bls_017\"\n",
    "bls_021 = data_folder + \"/test_bls_021\"\n",
    "bls_024 = data_folder + \"/test_bls_024\"\n",
    "bls_029 = data_folder + \"/test_bls_029\"\n",
    "bls_033 = data_folder + \"/test_bls_033\"\n",
    "\n",
    "\n",
    "bls_001_res = get_metrics(test, bls_001, metric)\n",
    "bls_002_res = get_metrics(test, bls_002, metric)\n",
    "bls_003_res = get_metrics(test, bls_003, metric)\n",
    "bls_004_res = get_metrics(test, bls_004, metric)\n",
    "bls_005_res = get_metrics(test, bls_005, metric)\n",
    "bls_006_res = get_metrics(test, bls_006, metric)\n",
    "bls_007_res = get_metrics(test, bls_007, metric)\n",
    "bls_009_res = get_metrics(test, bls_009, metric)\n",
    "bls_012_res = get_metrics(test, bls_012, metric)\n",
    "bls_014_res = get_metrics(test, bls_014, metric)\n",
    "bls_017_res = get_metrics(test, bls_017, metric)\n",
    "bls_021_res = get_metrics(test, bls_021, metric)\n",
    "bls_024_res = get_metrics(test, bls_024, metric)\n",
    "bls_029_res = get_metrics(test, bls_029, metric)\n",
    "bls_033_res = get_metrics(test, bls_033, metric)\n",
    "\n"
   ]
  },
  {
   "cell_type": "code",
   "execution_count": 8,
   "metadata": {},
   "outputs": [],
   "source": [
    "all_bls_res = [bls_001_res, bls_002_res, bls_003_res, bls_005_res, bls_007_res, bls_009_res, bls_012_res,  bls_017_res, bls_024_res, bls_033_res]\n",
    "bls_bpp = [0.2612, 0.408, 0.519, 0.702, 0.837, 0.952, 1.08, 1.21, 1.359, 1.48712]\n",
    "other_bpp = [0.2841, 0.4564, 0.5248, 0.6483, 0.7346, ]\n",
    "jpeg_bpp = [0.3559, 0.484, 0.7054, 1.034, 1.50]"
   ]
  },
  {
   "cell_type": "code",
   "execution_count": 9,
   "metadata": {},
   "outputs": [
    {
     "name": "stdout",
     "output_type": "stream",
     "text": [
      "1.4871266\n"
     ]
    },
    {
     "data": {
      "image/png": "[encoded data removed]",
      "text/plain": [
       "<Figure size 432x288 with 1 Axes>"
      ]
     },
     "metadata": {
      "needs_background": "light"
     },
     "output_type": "display_data"
    }
   ],
   "source": [
    "print(get_bpp(bls_033).mean())\n",
    "\n",
    "plt.xlabel(\"Bits Per Pixel (BPP) of Test Data\")\n",
    "plt.ylabel(\"SSIM\")\n",
    "bls_means = [np.mean(np.array(data)) for data in all_bls_res]\n",
    "bls_stds = [np.std(np.array(data)) for data in all_bls_res]\n",
    "plt.errorbar(bls_bpp, bls_means, bls_stds, label = \"BLS\", color = \"orange\")\n",
    "\n",
    "jpeg_means = [np.mean(np.array(data)) for data in all_jpeg_res[:-2]]\n",
    "jpeg_stds = [np.std(np.array(data)) for data in all_jpeg_res[:-2]]\n",
    "plt.errorbar(jpeg_bpp, jpeg_means, jpeg_stds, label = \"JPEG\", color = \"green\")\n",
    "plt.legend(loc = 4)\n",
    "plt.savefig(\"ssim.png\", dpi = 100)"
   ]
  },
  {
   "cell_type": "code",
   "execution_count": 6,
   "metadata": {},
   "outputs": [
    {
     "name": "stdout",
     "output_type": "stream",
     "text": [
      "1.0841330078125\n"
     ]
    },
    {
     "data": {
      "text/plain": [
       "<matplotlib.legend.Legend at 0x7f5a5550e5f8>"
      ]
     },
     "execution_count": 6,
     "metadata": {},
     "output_type": "execute_result"
    },
    {
     "data": {
      "image/png": "[encoded data removed]",
      "text/plain": [
       "<Figure size 432x288 with 1 Axes>"
      ]
     },
     "metadata": {
      "needs_background": "light"
     },
     "output_type": "display_data"
    }
   ],
   "source": [
    "print(get_bpp(jpeg_90).mean())\n",
    "plt.hist(jpeg_1_res, label = \"0.3559\")\n",
    "plt.hist(jpeg_5_res, label = \"0.484\")\n",
    "plt.hist(jpeg_10_res, label = \"0.7054\")\n",
    "plt.hist(jpeg_20_res, label = \"1.034\")\n",
    "plt.hist(jpeg_40_res, label = \"1.50\")\n",
    "plt.hist(jpeg_60_res, label = \"1.91\")\n",
    "plt.hist(jpeg_80_res, label = \"2.74\")\n",
    "plt.hist(jpeg_90_res, label = \"3\")\n",
    "plt.legend()"
   ]
  },
  {
   "cell_type": "code",
   "execution_count": 7,
   "metadata": {},
   "outputs": [
    {
     "ename": "FileNotFoundError",
     "evalue": "[Errno 2] No such file or directory: 'data/cifar/train_jpeg_80/bpp.npy'",
     "output_type": "error",
     "traceback": [
      "\u001b[0;31m---------------------------------------------------------------------------\u001b[0m",
      "\u001b[0;31mFileNotFoundError\u001b[0m                         Traceback (most recent call last)",
      "\u001b[0;32m<ipython-input-7-ce0bf2f1ddcd>\u001b[0m in \u001b[0;36m<module>\u001b[0;34m\u001b[0m\n\u001b[0;32m----> 1\u001b[0;31m \u001b[0mprint\u001b[0m\u001b[0;34m(\u001b[0m\u001b[0mget_bpp\u001b[0m\u001b[0;34m(\u001b[0m\u001b[0;34m\"data/cifar/train_jpeg_80\"\u001b[0m\u001b[0;34m)\u001b[0m\u001b[0;34m.\u001b[0m\u001b[0mshape\u001b[0m\u001b[0;34m)\u001b[0m\u001b[0;34m\u001b[0m\u001b[0;34m\u001b[0m\u001b[0m\n\u001b[0m",
      "\u001b[0;32m~/Workspace/compression-ml/utils/compression_compare.py\u001b[0m in \u001b[0;36mget_bpp\u001b[0;34m(data_folder)\u001b[0m\n\u001b[1;32m     40\u001b[0m \u001b[0;34m\u001b[0m\u001b[0m\n\u001b[1;32m     41\u001b[0m \u001b[0;32mdef\u001b[0m \u001b[0mget_bpp\u001b[0m\u001b[0;34m(\u001b[0m\u001b[0mdata_folder\u001b[0m\u001b[0;34m)\u001b[0m\u001b[0;34m:\u001b[0m\u001b[0;34m\u001b[0m\u001b[0;34m\u001b[0m\u001b[0m\n\u001b[0;32m---> 42\u001b[0;31m     \u001b[0;32mreturn\u001b[0m \u001b[0mnp\u001b[0m\u001b[0;34m.\u001b[0m\u001b[0mload\u001b[0m\u001b[0;34m(\u001b[0m\u001b[0mos\u001b[0m\u001b[0;34m.\u001b[0m\u001b[0mpath\u001b[0m\u001b[0;34m.\u001b[0m\u001b[0mjoin\u001b[0m\u001b[0;34m(\u001b[0m\u001b[0mdata_folder\u001b[0m\u001b[0;34m,\u001b[0m \u001b[0;34m\"bpp.npy\"\u001b[0m\u001b[0;34m)\u001b[0m\u001b[0;34m)\u001b[0m\u001b[0;34m\u001b[0m\u001b[0;34m\u001b[0m\u001b[0m\n\u001b[0m\u001b[1;32m     43\u001b[0m \u001b[0;34m\u001b[0m\u001b[0m\n\u001b[1;32m     44\u001b[0m \u001b[0;32mdef\u001b[0m \u001b[0mget_full_bpp\u001b[0m\u001b[0;34m(\u001b[0m\u001b[0mdata_folder\u001b[0m\u001b[0;34m)\u001b[0m\u001b[0;34m:\u001b[0m\u001b[0;34m\u001b[0m\u001b[0;34m\u001b[0m\u001b[0m\n",
      "\u001b[0;32m~/miniconda3/lib/python3.7/site-packages/numpy/lib/npyio.py\u001b[0m in \u001b[0;36mload\u001b[0;34m(file, mmap_mode, allow_pickle, fix_imports, encoding)\u001b[0m\n\u001b[1;32m    414\u001b[0m             \u001b[0mown_fid\u001b[0m \u001b[0;34m=\u001b[0m \u001b[0;32mFalse\u001b[0m\u001b[0;34m\u001b[0m\u001b[0;34m\u001b[0m\u001b[0m\n\u001b[1;32m    415\u001b[0m         \u001b[0;32melse\u001b[0m\u001b[0;34m:\u001b[0m\u001b[0;34m\u001b[0m\u001b[0;34m\u001b[0m\u001b[0m\n\u001b[0;32m--> 416\u001b[0;31m             \u001b[0mfid\u001b[0m \u001b[0;34m=\u001b[0m \u001b[0mstack\u001b[0m\u001b[0;34m.\u001b[0m\u001b[0menter_context\u001b[0m\u001b[0;34m(\u001b[0m\u001b[0mopen\u001b[0m\u001b[0;34m(\u001b[0m\u001b[0mos_fspath\u001b[0m\u001b[0;34m(\u001b[0m\u001b[0mfile\u001b[0m\u001b[0;34m)\u001b[0m\u001b[0;34m,\u001b[0m \u001b[0;34m\"rb\"\u001b[0m\u001b[0;34m)\u001b[0m\u001b[0;34m)\u001b[0m\u001b[0;34m\u001b[0m\u001b[0;34m\u001b[0m\u001b[0m\n\u001b[0m\u001b[1;32m    417\u001b[0m             \u001b[0mown_fid\u001b[0m \u001b[0;34m=\u001b[0m \u001b[0;32mTrue\u001b[0m\u001b[0;34m\u001b[0m\u001b[0;34m\u001b[0m\u001b[0m\n\u001b[1;32m    418\u001b[0m \u001b[0;34m\u001b[0m\u001b[0m\n",
      "\u001b[0;31mFileNotFoundError\u001b[0m: [Errno 2] No such file or directory: 'data/cifar/train_jpeg_80/bpp.npy'"
     ]
    }
   ],
   "source": [
    "print(get_bpp(\"data/cifar/train_jpeg_80\").shape)"
   ]
  },
  {
   "cell_type": "code",
   "execution_count": null,
   "metadata": {},
   "outputs": [],
   "source": []
  }
 ],
 "metadata": {
  "kernelspec": {
   "display_name": "Python 3",
   "language": "python",
   "name": "python3"
  },
  "language_info": {
   "codemirror_mode": {
    "name": "ipython",
    "version": 3
   },
   "file_extension": ".py",
   "mimetype": "text/x-python",
   "name": "python",
   "nbconvert_exporter": "python",
   "pygments_lexer": "ipython3",
   "version": "3.7.3"
  }
 },
 "nbformat": 4,
 "nbformat_minor": 4
}
