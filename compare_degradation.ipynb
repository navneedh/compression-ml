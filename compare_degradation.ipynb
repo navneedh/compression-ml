{
 "cells": [
  {
   "cell_type": "code",
   "execution_count": 1,
   "metadata": {},
   "outputs": [],
   "source": [
    "from utils.compression_compare import *\n",
    "import matplotlib.pyplot as plt\n",
    "plt.rcParams[\"font.family\"] = \"serif\"\n",
    "plt.rcParams['font.size'] = 13"
   ]
  },
  {
   "cell_type": "markdown",
   "metadata": {},
   "source": [
    "### Tiny Imagenet Dataset"
   ]
  },
  {
   "cell_type": "code",
   "execution_count": 14,
   "metadata": {},
   "outputs": [],
   "source": [
    "tiny_jpeg_bpp = [0.265, 0.375, 0.594, 0.93, 1.397, 2.32]\n",
    "tiny_bls_bpp = [0.257, 0.606, 0.859, 1.206, 1.596, 1.744 ]\n",
    "tiny_full_bls_bpp = [1.364, 2.78, 3.79, 5.182, 6.743, 7.335]\n",
    "tiny_full_bls_bpp = [x/4 for x in tiny_full_bls_bpp]"
   ]
  },
  {
   "cell_type": "code",
   "execution_count": 3,
   "metadata": {},
   "outputs": [
    {
     "name": "stderr",
     "output_type": "stream",
     "text": [
      "100%|██████████| 10000/10000 [00:21<00:00, 475.46it/s]\n",
      "100%|██████████| 10000/10000 [00:21<00:00, 474.91it/s]\n",
      "100%|██████████| 10000/10000 [00:21<00:00, 474.37it/s]\n",
      "100%|██████████| 10000/10000 [00:21<00:00, 473.06it/s]\n",
      "100%|██████████| 10000/10000 [00:21<00:00, 471.32it/s]\n",
      "100%|██████████| 10000/10000 [00:21<00:00, 471.96it/s]\n"
     ]
    }
   ],
   "source": [
    "metric = \"ssim\"\n",
    "data_folder = \"/media/expansion1/navneedhmaudgalya/Datasets/tiny_imagenet\"\n",
    "\n",
    "test = data_folder + \"/test\"\n",
    "jpeg_1 = data_folder + \"/test_jpeg_1\"\n",
    "jpeg_5 = data_folder + \"/test_jpeg_5\"\n",
    "jpeg_10 = data_folder + \"/test_jpeg_10\"\n",
    "jpeg_20 = data_folder + \"/test_jpeg_20\"\n",
    "jpeg_40 = data_folder + \"/test_jpeg_40\"\n",
    "jpeg_60 = data_folder + \"/test_jpeg_60\"\n",
    "\n",
    "\n",
    "jpeg_1_res = get_metrics(test, jpeg_1, metric)\n",
    "jpeg_5_res = get_metrics(test, jpeg_5, metric)\n",
    "jpeg_10_res = get_metrics(test, jpeg_10, metric)\n",
    "jpeg_20_res = get_metrics(test, jpeg_20, metric)\n",
    "jpeg_40_res = get_metrics(test, jpeg_40, metric)\n",
    "jpeg_60_res = get_metrics(test, jpeg_60, metric)\n",
    "\n",
    "all_jpeg_res = [jpeg_1_res, jpeg_5_res, jpeg_10_res, jpeg_20_res, jpeg_40_res, jpeg_60_res]"
   ]
  },
  {
   "cell_type": "code",
   "execution_count": 5,
   "metadata": {},
   "outputs": [
    {
     "name": "stderr",
     "output_type": "stream",
     "text": [
      "100%|██████████| 10000/10000 [00:22<00:00, 437.54it/s]\n",
      "100%|██████████| 10000/10000 [00:22<00:00, 437.03it/s]\n",
      "100%|██████████| 10000/10000 [00:22<00:00, 437.80it/s]\n",
      "100%|██████████| 10000/10000 [00:22<00:00, 436.83it/s]\n",
      "100%|██████████| 10000/10000 [00:22<00:00, 438.19it/s]\n",
      "100%|██████████| 10000/10000 [00:22<00:00, 437.67it/s]\n"
     ]
    }
   ],
   "source": [
    "bls_001 = data_folder + \"/test_bls_001\"\n",
    "bls_003 = data_folder + \"/test_bls_003\"\n",
    "bls_005 = data_folder + \"/test_bls_005\"\n",
    "bls_012 = data_folder + \"/test_bls_012\"\n",
    "bls_033 = data_folder + \"/test_bls_033\"\n",
    "bls_05 = data_folder + \"/test_bls_05\"\n",
    "\n",
    "bls_001_res = get_metrics(test, bls_001, metric)\n",
    "bls_003_res = get_metrics(test, bls_003, metric)\n",
    "bls_005_res = get_metrics(test, bls_005, metric)\n",
    "bls_012_res = get_metrics(test, bls_012, metric)\n",
    "bls_033_res = get_metrics(test, bls_033, metric)\n",
    "bls_05_res = get_metrics(test, bls_05, metric)\n",
    "\n",
    "all_bls_res = [bls_001_res, bls_003_res, bls_005_res, bls_012_res, bls_033_res, bls_05_res]"
   ]
  },
  {
   "cell_type": "code",
   "execution_count": 17,
   "metadata": {},
   "outputs": [
    {
     "data": {
      "text/plain": [
       "<matplotlib.legend.Legend at 0x7fdff0a50c50>"
      ]
     },
     "execution_count": 17,
     "metadata": {},
     "output_type": "execute_result"
    },
    {
     "data": {
      "image/png": "[encoded data removed]",
      "text/plain": [
       "<Figure size 432x288 with 1 Axes>"
      ]
     },
     "metadata": {
      "needs_background": "light"
     },
     "output_type": "display_data"
    }
   ],
   "source": [
    "\n",
    "plt.title(\"Tiny ImageNet Dataset\")\n",
    "plt.xlabel(\"Bits Per Pixel (BPP) of Test Data\")\n",
    "plt.ylabel(\"SSIM\")\n",
    "bls_means = [np.mean(np.array(data)) for data in all_bls_res]\n",
    "bls_stds = [np.std(np.array(data)) for data in all_bls_res]\n",
    "plt.errorbar(tiny_bls_bpp, bls_means, bls_stds, label = \"BLS\", color = \"orange\")\n",
    "\n",
    "jpeg_means = [np.mean(np.array(data)) for data in all_jpeg_res]\n",
    "jpeg_stds = [np.std(np.array(data)) for data in all_jpeg_res]\n",
    "plt.errorbar(tiny_jpeg_bpp, jpeg_means, jpeg_stds, label = \"JPEG\", color = \"green\")\n",
    "plt.legend(loc = 4)\n"
   ]
  },
  {
   "cell_type": "markdown",
   "metadata": {},
   "source": [
    "### Cifar Dataset"
   ]
  },
  {
   "cell_type": "code",
   "execution_count": null,
   "metadata": {},
   "outputs": [],
   "source": [
    "metric = \"ssim\"\n",
    "data_folder = \"/media/expansion1/navneedhmaudgalya/Datasets/cifar\"\n",
    "\n",
    "test = data_folder + \"/test\"\n",
    "jpeg_1 = data_folder + \"/test_jpeg_1\"\n",
    "jpeg_5 = data_folder + \"/test_jpeg_5\"\n",
    "jpeg_10 = data_folder + \"/test_jpeg_10\"\n",
    "jpeg_20 = data_folder + \"/test_jpeg_20\"\n",
    "jpeg_40 = data_folder + \"/test_jpeg_40\"\n",
    "jpeg_60 = data_folder + \"/test_jpeg_60\"\n",
    "jpeg_80 = data_folder + \"/test_jpeg_80\"\n",
    "jpeg_90 = data_folder + \"/test_jpeg_90\"\n",
    "\n",
    "# jpeg_1_res = get_metrics(test, jpeg_1, metric)\n",
    "# jpeg_5_res = get_metrics(test, jpeg_5, metric)\n",
    "# jpeg_10_res = get_metrics(test, jpeg_10, metric)\n",
    "# jpeg_20_res = get_metrics(test, jpeg_20, metric)\n",
    "# jpeg_40_res = get_metrics(test, jpeg_40, metric)\n",
    "# jpeg_60_res = get_metrics(test, jpeg_60, metric)\n",
    "# jpeg_80_res = get_metrics(test, jpeg_80, metric)\n",
    "# jpeg_90_res = get_metrics(test, jpeg_90, metric)\n",
    "\n",
    "# all_jpeg_res = [jpeg_1_res, jpeg_5_res, jpeg_10_res, jpeg_20_res, jpeg_40_res, jpeg_60_res, jpeg_80_res]"
   ]
  },
  {
   "cell_type": "code",
   "execution_count": null,
   "metadata": {},
   "outputs": [],
   "source": [
    "bls_001 = data_folder + \"/test_bls_001\"\n",
    "bls_003 = data_folder + \"/test_bls_003\"\n",
    "bls_005 = data_folder + \"/test_bls_005\"\n",
    "bls_012 = data_folder + \"/test_bls_012\"\n",
    "bls_033 = data_folder + \"/test_bls_033\"\n",
    "\n",
    "\n",
    "bls_001_res = get_metrics(test, bls_001, metric)\n",
    "bls_003_res = get_metrics(test, bls_003, metric)\n",
    "bls_005_res = get_metrics(test, bls_005, metric)\n",
    "bls_012_res = get_metrics(test, bls_012, metric)\n",
    "bls_033_res = get_metrics(test, bls_033, metric)\n",
    "\n"
   ]
  },
  {
   "cell_type": "code",
   "execution_count": null,
   "metadata": {},
   "outputs": [],
   "source": [
    "all_bls_res = [bls_001_res, bls_003_res, bls_005_res, bls_012_res, bls_033_res]\n",
    "bls_bpp = [0.2612, 0.408, 0.519, 0.702, 0.837, 0.952, 1.08, 1.21, 1.359, 1.48712]\n",
    "other_bpp = [0.2841, 0.4564, 0.5248, 0.6483, 0.7346, ]\n",
    "jpeg_bpp = [0.3559, 0.484, 0.7054, 1.034, 1.50]"
   ]
  },
  {
   "cell_type": "code",
   "execution_count": null,
   "metadata": {},
   "outputs": [],
   "source": [
    "bls_means = [np.mean(np.array(data)) for data in all_bls_res]\n",
    "bls_means"
   ]
  },
  {
   "cell_type": "code",
   "execution_count": null,
   "metadata": {},
   "outputs": [],
   "source": [
    "print(get_bpp(bls_033).mean())\n",
    "\n",
    "plt.xlabel(\"Bits Per Pixel (BPP) of Test Data\")\n",
    "plt.ylabel(\"SSIM\")\n",
    "bls_means = [np.mean(np.array(data)) for data in all_bls_res]\n",
    "bls_stds = [np.std(np.array(data)) for data in all_bls_res]\n",
    "plt.errorbar(bls_bpp, bls_means, bls_stds, label = \"BLS\", color = \"orange\")\n",
    "\n",
    "jpeg_means = [np.mean(np.array(data)) for data in all_jpeg_res[:-2]]\n",
    "jpeg_stds = [np.std(np.array(data)) for data in all_jpeg_res[:-2]]\n",
    "plt.errorbar(jpeg_bpp, jpeg_means, jpeg_stds, label = \"JPEG\", color = \"green\")\n",
    "plt.legend(loc = 4)\n",
    "plt.savefig(\"ssim.png\", dpi = 100)"
   ]
  },
  {
   "cell_type": "code",
   "execution_count": null,
   "metadata": {},
   "outputs": [],
   "source": [
    "print(get_bpp(jpeg_90).mean())\n",
    "plt.hist(jpeg_1_res, label = \"0.3559\")\n",
    "plt.hist(jpeg_5_res, label = \"0.484\")\n",
    "plt.hist(jpeg_10_res, label = \"0.7054\")\n",
    "plt.hist(jpeg_20_res, label = \"1.034\")\n",
    "plt.hist(jpeg_40_res, label = \"1.50\")\n",
    "plt.hist(jpeg_60_res, label = \"1.91\")\n",
    "plt.hist(jpeg_80_res, label = \"2.74\")\n",
    "plt.hist(jpeg_90_res, label = \"3\")\n",
    "plt.legend()"
   ]
  },
  {
   "cell_type": "code",
   "execution_count": null,
   "metadata": {},
   "outputs": [],
   "source": []
  },
  {
   "cell_type": "code",
   "execution_count": null,
   "metadata": {},
   "outputs": [],
   "source": []
  }
 ],
 "metadata": {
  "kernelspec": {
   "display_name": "Python 3",
   "language": "python",
   "name": "python3"
  },
  "language_info": {
   "codemirror_mode": {
    "name": "ipython",
    "version": 3
   },
   "file_extension": ".py",
   "mimetype": "text/x-python",
   "name": "python",
   "nbconvert_exporter": "python",
   "pygments_lexer": "ipython3",
   "version": "3.7.3"
  }
 },
 "nbformat": 4,
 "nbformat_minor": 4
}
