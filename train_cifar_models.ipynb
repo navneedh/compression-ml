{
  "nbformat": 4,
  "nbformat_minor": 0,
  "metadata": {
    "colab": {
      "name": "train_cifar_models.ipynb",
      "provenance": [],
      "collapsed_sections": [],
      "include_colab_link": true
    },
    "kernelspec": {
      "display_name": "Python 3",
      "name": "python3"
    },
    "accelerator": "GPU"
  },
  "cells": [
    {
      "cell_type": "markdown",
      "metadata": {
        "id": "view-in-github",
        "colab_type": "text"
      },
      "source": [
        "<a href=\"https://colab.research.google.com/github/navneedh/compression-ml/blob/master/train_cifar_models.ipynb\" target=\"_parent\"><img src=\"https://colab.research.google.com/assets/colab-badge.svg\" alt=\"Open In Colab\"/></a>"
      ]
    },
    {
      "cell_type": "code",
      "metadata": {
        "colab": {
          "base_uri": "https://localhost:8080/"
        },
        "id": "tyRl21Tp_y_C",
        "outputId": "9b26a3cc-9371-483b-d267-67ba5708fd5e"
      },
      "source": [
        "!pip install colab_ssh --upgrade\n",
        "from colab_ssh import launch_ssh\n",
        "ngrokToken = \"1oJKoifyXwVKlHiSCSND1yNvfp9_MXUSSb5W4Db4YbZDLHJS\"\n",
        "launch_ssh(ngrokToken, password=\"password\")"
      ],
      "execution_count": null,
      "outputs": [
        {
          "output_type": "stream",
          "text": [
            "Collecting colab_ssh\n",
            "  Downloading https://files.pythonhosted.org/packages/74/c0/a2d6cc985d9496968b80203105f20c8d3845effa45dd4cb46c22879f1e44/colab_ssh-0.3.15-py3-none-any.whl\n",
            "Installing collected packages: colab-ssh\n",
            "Successfully installed colab-ssh-0.3.15\n",
            "Warning: Due to some issues with ngrok on Google Colab, reported in the issue https://github.com/WassimBenzarti/colab-ssh/issues/45, \n",
            "we highly recommend that update your code by following this documentation https://github.com/WassimBenzarti/colab-ssh#getting-started\n",
            "Successfully running 4.tcp.ngrok.io:17531\n",
            "[Optional] You can also connect with VSCode SSH Remote extension using this configuration:\n",
            "\n",
            "\tHost google_colab_ssh\n",
            "\t\tHostName 4.tcp.ngrok.io\n",
            "\t\tUser root\n",
            "\t\tPort 17531\n",
            "\t  \n"
          ],
          "name": "stdout"
        }
      ]
    },
    {
      "cell_type": "code",
      "metadata": {
        "colab": {
          "base_uri": "https://localhost:8080/"
        },
        "id": "k4t_-SursI8T",
        "outputId": "e36943e4-dc66-4674-db44-f665661d33d6"
      },
      "source": [
        "from google.colab import drive\n",
        "root = \"/content/drive/MyDrive/\"\n",
        "drive.mount('/content/drive/')\n",
        "\n",
        "# sudo apt-get install imagemagick\n",
        "# find . -name '*.JPEG' -type f -exec bash -c 'convert \"$0\" \"${0%.JPEG}.png\"' {} \\;"
      ],
      "execution_count": null,
      "outputs": [
        {
          "output_type": "stream",
          "text": [
            "Mounted at /content/drive/\n"
          ],
          "name": "stdout"
        }
      ]
    },
    {
      "cell_type": "code",
      "metadata": {
        "colab": {
          "base_uri": "https://localhost:8080/"
        },
        "id": "L5kkU30fWoTu",
        "outputId": "670d681b-5b35-4bdc-ab5d-57840c0d6bba"
      },
      "source": [
        "cd /content/drive/MyDrive/compression-ml/"
      ],
      "execution_count": null,
      "outputs": [
        {
          "output_type": "stream",
          "text": [
            "/content/drive/MyDrive/compression-ml\n"
          ],
          "name": "stdout"
        }
      ]
    },
    {
      "cell_type": "code",
      "metadata": {
        "colab": {
          "base_uri": "https://localhost:8080/"
        },
        "id": "OJ1hakBih5QA",
        "outputId": "49dc7e05-0f2d-4a6b-da4f-b8af56fd9aea"
      },
      "source": [
        "!ls -a"
      ],
      "execution_count": null,
      "outputs": [
        {
          "output_type": "stream",
          "text": [
            "cifar_models\t\t\t.gitignore\n",
            "compare_degradation.ipynb\tmodel_red.png\n",
            "compression_models\t\tm_utils\n",
            "data\t\t\t\tngrok\n",
            "dataaug_maxmodel.png\t\tngrok-stable-linux-amd64.zip\n",
            "data_to_np.py\t\t\tREADME.md\n",
            "embedding_visualizations.ipynb\tsaved_models\n",
            "exp_results\t\t\ttrain.ipynb\n",
            ".git\n"
          ],
          "name": "stdout"
        }
      ]
    },
    {
      "cell_type": "code",
      "metadata": {
        "id": "YytaCEFwvG_9"
      },
      "source": [
        "%reload_ext autoreload\n",
        "%autoreload 2\n",
        "\n",
        "from fastprogress import master_bar, progress_bar\n",
        "\n",
        "import torch\n",
        "import torch.nn as nn\n",
        "import torch.optim as optim\n",
        "import torch.nn.functional as F\n",
        "import torch.backends.cudnn as cudnn\n",
        "\n",
        "import torchvision\n",
        "import torchvision.transforms as transforms\n",
        "\n",
        "import os \n",
        "from tqdm import tqdm\n",
        "import numpy as np\n",
        "import matplotlib.pyplot as plt\n",
        "from functools import reduce\n",
        "\n",
        "from m_utils.compression_compare import *\n",
        "import matplotlib.pyplot as plt\n",
        " \n",
        "from cifar_models import *\n",
        "from m_utils.dataset import *\n",
        "from m_utils.image_utils import *\n",
        "from cifar_models.vgg import *\n",
        "from cifar_models.resnet import *\n",
        "device = \"cuda\" if torch.cuda.is_available() else \"cpu\"\n",
        "\n",
        "plt.rcParams[\"font.family\"] = \"serif\"\n",
        "plt.rcParams['font.size'] = 13"
      ],
      "execution_count": null,
      "outputs": []
    },
    {
      "cell_type": "code",
      "metadata": {
        "id": "_b67F8tivSCf"
      },
      "source": [
        "def pytorch_count_params(model):\n",
        "  \"count number trainable parameters in a pytorch model\"\n",
        "  total_params = sum(reduce( lambda a, b: a*b, x.size()) for x in model.parameters())\n",
        "  return total_params\n",
        "\n",
        "transform_train = transforms.Compose([\n",
        "    transforms.ToPILImage(),\n",
        "    transforms.RandomCrop(32, padding=4),\n",
        "    transforms.RandomHorizontalFlip(),\n",
        "    transforms.ToTensor(),\n",
        "    transforms.Normalize((0.4914, 0.4822, 0.4465), (0.2023, 0.1994, 0.2010)),\n",
        "])\n",
        "\n",
        "transform_test = transforms.Compose(\n",
        "    [\n",
        "        transforms.ToTensor(),\n",
        "        transforms.Normalize((0.4914, 0.4822, 0.4465), (0.2023, 0.1994, 0.2010)),\n",
        "    ]\n",
        ")\n",
        "\n",
        "BATCH_SIZE = 128\n",
        "EPOCHS = 30"
      ],
      "execution_count": null,
      "outputs": []
    },
    {
      "cell_type": "code",
      "metadata": {
        "id": "Dy3KI6WNvn9d"
      },
      "source": [
        "exp_name = \"res18_bls012\"\n",
        "train_dset = CifarDataset(\"_bls_012\", train = True, transform = transform_train)\n",
        "test_dset = CifarDataset(\"\", train = False, transform = transform_test)\n",
        "\n",
        "# train_dset.filter([5])\n",
        "# test_dset.filter([5])\n",
        "\n",
        "# Torchvision CIFAR data\n",
        "# train_dset = torchvision.datasets.CIFAR10(\n",
        "#     root=\"~/Workspace/data\", train=True, download=True, transform=transform\n",
        "# )\n",
        "\n",
        "# test_dset = torchvision.datasets.CIFAR10(\n",
        "#     root=\"~/Workspace/data\", train=False, download=True, transform=transform\n",
        "# )\n",
        "\n",
        "train_loader = DataLoader(train_dset, batch_size = BATCH_SIZE, shuffle = True)\n",
        "test_loader = DataLoader(test_dset, batch_size = BATCH_SIZE, shuffle = False)"
      ],
      "execution_count": null,
      "outputs": []
    },
    {
      "cell_type": "code",
      "metadata": {
        "colab": {
          "base_uri": "https://localhost:8080/"
        },
        "id": "3r1KoucHXIpp",
        "outputId": "4b9c8900-19bf-4c93-e1f3-21c5fbe364e1"
      },
      "source": [
        "len(train_dset)"
      ],
      "execution_count": null,
      "outputs": [
        {
          "output_type": "execute_result",
          "data": {
            "text/plain": [
              "50000"
            ]
          },
          "metadata": {
            "tags": []
          },
          "execution_count": 8
        }
      ]
    },
    {
      "cell_type": "code",
      "metadata": {
        "colab": {
          "base_uri": "https://localhost:8080/"
        },
        "id": "vibNp5CYvpX0",
        "outputId": "2784daef-a944-4e34-8d6c-58971ba591de"
      },
      "source": [
        "# net = ().to(device)\n",
        "# net = VGG('VGG11s7').to(device)\n",
        "net = ResNet18([1,0,0,0]).to(device)\n",
        "print(pytorch_count_params(net))\n",
        "print(net)"
      ],
      "execution_count": null,
      "outputs": [
        {
          "output_type": "stream",
          "text": [
            "116810\n",
            "ResNet(\n",
            "  (conv1): Conv2d(3, 64, kernel_size=(3, 3), stride=(1, 1), padding=(1, 1), bias=False)\n",
            "  (bn1): BatchNorm2d(64, eps=1e-05, momentum=0.1, affine=True, track_running_stats=True)\n",
            "  (layer1): Sequential(\n",
            "    (0): BasicBlock(\n",
            "      (conv1): Conv2d(64, 64, kernel_size=(3, 3), stride=(1, 1), padding=(1, 1), bias=False)\n",
            "      (bn1): BatchNorm2d(64, eps=1e-05, momentum=0.1, affine=True, track_running_stats=True)\n",
            "      (conv2): Conv2d(64, 64, kernel_size=(3, 3), stride=(1, 1), padding=(1, 1), bias=False)\n",
            "      (bn2): BatchNorm2d(64, eps=1e-05, momentum=0.1, affine=True, track_running_stats=True)\n",
            "      (shortcut): Sequential()\n",
            "    )\n",
            "  )\n",
            "  (linear): Linear(in_features=4096, out_features=10, bias=True)\n",
            ")\n"
          ],
          "name": "stdout"
        }
      ]
    },
    {
      "cell_type": "code",
      "metadata": {
        "colab": {
          "base_uri": "https://localhost:8080/",
          "height": 805
        },
        "id": "9QdqvxLIvw2l",
        "outputId": "8ea96cef-7cb5-46c6-9759-e0e296d79f52"
      },
      "source": [
        "def train(trainloader):\n",
        "    criterion = nn.CrossEntropyLoss(reduction='mean')\n",
        "    optimizer = optim.SGD(net.parameters(), lr=0.1, momentum=0.9, weight_decay=5e-4)\n",
        "    net.train()\n",
        "    train_loss = 0\n",
        "    correct = 0\n",
        "    total = 0\n",
        "    \n",
        "    accuracy = []\n",
        "    losses = []\n",
        "    \n",
        "    for batch_idx, (inputs, targets) in enumerate(trainloader):\n",
        "        inputs, targets = inputs.to(device), targets.to(device)\n",
        "        optimizer.zero_grad()\n",
        "        outputs = net(inputs)\n",
        "\n",
        "        loss = criterion(outputs, targets)\n",
        "        loss.backward()\n",
        "        optimizer.step()\n",
        "\n",
        "        train_loss += loss.item()\n",
        "        _, predicted = outputs.max(1)\n",
        "        total += targets.size(0)\n",
        "        correct += predicted.eq(targets).sum().item()\n",
        "\n",
        "    return correct/total, train_loss/(50000/BATCH_SIZE) \n",
        "\n",
        "def test(testloader):\n",
        "    softmax_output = nn.Softmax()\n",
        "    criterion = nn.CrossEntropyLoss()\n",
        "    optimizer = optim.SGD(net.parameters(), lr=0.1, momentum=0.9, weight_decay=5e-4)\n",
        "    metrics = []\n",
        "    net.eval()\n",
        "    test_loss = 0\n",
        "    correct = 0\n",
        "    total = 0\n",
        "    with torch.no_grad():\n",
        "        for batch_idx, (inputs, targets) in enumerate(testloader):\n",
        "            inputs, targets = inputs.to(device), targets.to(device)\n",
        "            outputs = net(inputs)\n",
        "\n",
        "            loss = criterion(outputs, targets)\n",
        "            test_loss += loss.item()\n",
        "            _, predicted = outputs.max(1)\n",
        "            total += targets.size(0)\n",
        "            correct += predicted.eq(targets).sum().item()\n",
        "        return correct/total, test_loss/(10000/BATCH_SIZE) \n",
        "    \n",
        "RUNS = 3\n",
        "\n",
        "all_train_acc = []\n",
        "all_test_acc = []\n",
        "max_test_acc = 0\n",
        "for run in progress_bar(range(RUNS)):\n",
        "  train_acc, train_loss, test_acc, test_loss = [], [], [], []\n",
        "  # net = VGG('VGG11s8').to(device)\n",
        "  net = ResNet18([2,2,2,2]).to(device)\n",
        "  max_test_acc = 0\n",
        "  for epoch in progress_bar(range(EPOCHS)):    \n",
        "      train_a, train_l = train(train_loader)\n",
        "      test_a, test_l = test(test_loader)\n",
        "      \n",
        "      if test_a > max_test_acc:\n",
        "        max_test_acc = test_a \n",
        "        model_state = net.state_dict()\n",
        "        print(test_a)\n",
        "\n",
        "      train_acc.append(train_a)\n",
        "      train_loss.append(train_l)\n",
        "      test_acc.append(test_a)\n",
        "      test_loss.append(test_l)\n",
        "  print(\"Train Accuracy: {}, Test Accuracy: {}\".format(train_a, test_a))\n",
        "  all_train_acc.append(train_acc)\n",
        "  all_test_acc.append(test_acc)\n",
        "     \n",
        "# exp_name = exp_name.replace(\"_\",\"\")\n",
        "# np.savez(\"/content/drive/MyDrive/compression-ml/exp_results/{}.npz\".format(exp_name), train_acc=all_train_acc, train_loss=train_loss, test_acc=all_test_acc, test_loss=test_loss)\n",
        "np.savez(\"/content/drive/MyDrive/compression-ml/exp_results/model_compression_results/{}.npz\".format(exp_name), train_acc=all_train_acc, train_loss=train_loss, test_acc=all_test_acc, test_loss=test_loss)\n",
        "# torch.save(model_state, \"/content/drive/MyDrive/compression-ml/saved_models/{}.pt\".format(exp_name))"
      ],
      "execution_count": null,
      "outputs": [
        {
          "output_type": "display_data",
          "data": {
            "text/html": [
              "\n",
              "    <div>\n",
              "        <style>\n",
              "            /* Turns off some styling */\n",
              "            progress {\n",
              "                /* gets rid of default border in Firefox and Opera. */\n",
              "                border: none;\n",
              "                /* Needs to be in here for Safari polyfill so background images work as expected. */\n",
              "                background-size: auto;\n",
              "            }\n",
              "            .progress-bar-interrupted, .progress-bar-interrupted::-webkit-progress-bar {\n",
              "                background: #F44336;\n",
              "            }\n",
              "        </style>\n",
              "      <progress value='3' class='' max='3' style='width:300px; height:20px; vertical-align: middle;'></progress>\n",
              "      100.00% [3/3 41:01<00:00]\n",
              "    </div>\n",
              "    "
            ],
            "text/plain": [
              "<IPython.core.display.HTML object>"
            ]
          },
          "metadata": {
            "tags": []
          }
        },
        {
          "output_type": "display_data",
          "data": {
            "text/html": [
              "\n",
              "    <div>\n",
              "        <style>\n",
              "            /* Turns off some styling */\n",
              "            progress {\n",
              "                /* gets rid of default border in Firefox and Opera. */\n",
              "                border: none;\n",
              "                /* Needs to be in here for Safari polyfill so background images work as expected. */\n",
              "                background-size: auto;\n",
              "            }\n",
              "            .progress-bar-interrupted, .progress-bar-interrupted::-webkit-progress-bar {\n",
              "                background: #F44336;\n",
              "            }\n",
              "        </style>\n",
              "      <progress value='30' class='' max='30' style='width:300px; height:20px; vertical-align: middle;'></progress>\n",
              "      100.00% [30/30 13:57<00:00]\n",
              "    </div>\n",
              "    "
            ],
            "text/plain": [
              "<IPython.core.display.HTML object>"
            ]
          },
          "metadata": {
            "tags": []
          }
        },
        {
          "output_type": "stream",
          "text": [
            "0.4071\n",
            "0.4908\n",
            "0.5821\n",
            "0.6259\n",
            "0.6694\n",
            "0.7059\n",
            "0.7535\n",
            "0.7603\n",
            "0.7933\n",
            "0.8129\n",
            "0.8174\n",
            "Train Accuracy: 0.82662, Test Accuracy: 0.8097\n"
          ],
          "name": "stdout"
        },
        {
          "output_type": "display_data",
          "data": {
            "text/html": [
              "\n",
              "    <div>\n",
              "        <style>\n",
              "            /* Turns off some styling */\n",
              "            progress {\n",
              "                /* gets rid of default border in Firefox and Opera. */\n",
              "                border: none;\n",
              "                /* Needs to be in here for Safari polyfill so background images work as expected. */\n",
              "                background-size: auto;\n",
              "            }\n",
              "            .progress-bar-interrupted, .progress-bar-interrupted::-webkit-progress-bar {\n",
              "                background: #F44336;\n",
              "            }\n",
              "        </style>\n",
              "      <progress value='30' class='' max='30' style='width:300px; height:20px; vertical-align: middle;'></progress>\n",
              "      100.00% [30/30 13:36<00:00]\n",
              "    </div>\n",
              "    "
            ],
            "text/plain": [
              "<IPython.core.display.HTML object>"
            ]
          },
          "metadata": {
            "tags": []
          }
        },
        {
          "output_type": "stream",
          "text": [
            "0.4388\n",
            "0.5385\n",
            "0.6365\n",
            "0.6761\n",
            "0.7216\n",
            "0.7238\n",
            "0.7283\n",
            "0.7432\n",
            "0.7561\n",
            "0.7575\n",
            "0.7867\n",
            "0.7956\n",
            "0.818\n",
            "0.8309\n",
            "Train Accuracy: 0.82572, Test Accuracy: 0.8014\n"
          ],
          "name": "stdout"
        },
        {
          "output_type": "display_data",
          "data": {
            "text/html": [
              "\n",
              "    <div>\n",
              "        <style>\n",
              "            /* Turns off some styling */\n",
              "            progress {\n",
              "                /* gets rid of default border in Firefox and Opera. */\n",
              "                border: none;\n",
              "                /* Needs to be in here for Safari polyfill so background images work as expected. */\n",
              "                background-size: auto;\n",
              "            }\n",
              "            .progress-bar-interrupted, .progress-bar-interrupted::-webkit-progress-bar {\n",
              "                background: #F44336;\n",
              "            }\n",
              "        </style>\n",
              "      <progress value='30' class='' max='30' style='width:300px; height:20px; vertical-align: middle;'></progress>\n",
              "      100.00% [30/30 13:26<00:00]\n",
              "    </div>\n",
              "    "
            ],
            "text/plain": [
              "<IPython.core.display.HTML object>"
            ]
          },
          "metadata": {
            "tags": []
          }
        },
        {
          "output_type": "stream",
          "text": [
            "0.4053\n",
            "0.5313\n",
            "0.6016\n",
            "0.6631\n",
            "0.6972\n",
            "0.7296\n",
            "0.7318\n",
            "0.7436\n",
            "0.7848\n",
            "0.7967\n",
            "0.8057\n",
            "0.8134\n",
            "0.821\n",
            "Train Accuracy: 0.82468, Test Accuracy: 0.818\n"
          ],
          "name": "stdout"
        }
      ]
    },
    {
      "cell_type": "code",
      "metadata": {
        "colab": {
          "base_uri": "https://localhost:8080/",
          "height": 35
        },
        "id": "T-3V0nfa4SGT",
        "outputId": "0880f0aa-8403-4f18-b8e6-5498a7d9610b"
      },
      "source": [
        "exp_name"
      ],
      "execution_count": null,
      "outputs": [
        {
          "output_type": "execute_result",
          "data": {
            "application/vnd.google.colaboratory.intrinsic+json": {
              "type": "string"
            },
            "text/plain": [
              "'vgg11s7_base'"
            ]
          },
          "metadata": {
            "tags": []
          },
          "execution_count": 21
        }
      ]
    },
    {
      "cell_type": "code",
      "metadata": {
        "id": "SVaLj-QIqYSM",
        "colab": {
          "base_uri": "https://localhost:8080/"
        },
        "outputId": "746bd0a5-b040-4076-96d0-cbf41a6e76a8"
      },
      "source": [
        "exp_results_folder = \"exp_results/model_compression_results/\" \n",
        "base_res18s4 = np.load(exp_results_folder + \"vgg11s5_base.npz\")\n",
        "base_res18s4['test_acc'].max()"
      ],
      "execution_count": null,
      "outputs": [
        {
          "output_type": "execute_result",
          "data": {
            "text/plain": [
              "0.8029"
            ]
          },
          "metadata": {
            "tags": []
          },
          "execution_count": 14
        }
      ]
    },
    {
      "cell_type": "markdown",
      "metadata": {
        "id": "YVJmKAI56U7F"
      },
      "source": [
        "## Clean Accuracy Results (Resnet18)"
      ]
    },
    {
      "cell_type": "code",
      "metadata": {
        "id": "B25rxCXe6UlU"
      },
      "source": [
        "exp_results_folder = \"exp_results/model_compression_results/\"\n",
        "\n",
        "res18_base = np.load(exp_results_folder + \"res18_base.npz\")\n",
        "res18_bls1 = np.load(exp_results_folder + \"res18_bls1.npz\")\n",
        "res18_bls05 = np.load(exp_results_folder + \"res18_bls05.npz\")\n",
        "res18_bls033 = np.load(exp_results_folder + \"res18_bls033.npz\")\n",
        "res18_bls012 = np.load(exp_results_folder + \"res18_bls012.npz\")\n",
        "res18_bls005 = np.load(exp_results_folder + \"res18_bls005.npz\")\n",
        "res18_bls003 = np.load(exp_results_folder + \"res18_bls003.npz\")\n",
        "res18_bls001 = np.load(exp_results_folder + \"res18_bls001.npz\")\n",
        "\n",
        "res18_jpeg60 = np.load(exp_results_folder + \"res18_jpeg60.npz\")\n",
        "res18_jpeg40 = np.load(exp_results_folder + \"res18_jpeg40.npz\")\n",
        "res18_jpeg20 = np.load(exp_results_folder + \"res18_jpeg20.npz\")\n",
        "res18_jpeg10 = np.load(exp_results_folder + \"res18_jpeg10.npz\")\n",
        "res18_jpeg5 = np.load(exp_results_folder + \"res18_jpeg5.npz\")\n",
        "res18_jpeg1 = np.load(exp_results_folder + \"res18_jpeg1.npz\")\n",
        "\n",
        "exp_results_folder = \"exp_results/\"\n",
        "\n",
        "vgg11_base = np.load(exp_results_folder + \"base.npz\")\n",
        "vgg11_bls001 = np.load(exp_results_folder + \"bls001.npz\")\n",
        "vgg11_bls003 = np.load(exp_results_folder + \"bls003.npz\")\n",
        "vgg11_bls005 = np.load(exp_results_folder + \"bls005.npz\")\n",
        "vgg11_bls012 = np.load(exp_results_folder + \"bls012.npz\")\n",
        "vgg11_bls033 = np.load(exp_results_folder + \"bls033.npz\")\n",
        "vgg11_bls05 = np.load(exp_results_folder + \"bls05.npz\")\n",
        "vgg11_bls1 = np.load(exp_results_folder + \"bls1.npz\")\n",
        "\n",
        "vgg11_jpeg1 = np.load(exp_results_folder + \"jpeg1.npz\")\n",
        "vgg11_jpeg5 = np.load(exp_results_folder + \"jpeg5.npz\")\n",
        "vgg11_jpeg10 = np.load(exp_results_folder + \"jpeg10.npz\")\n",
        "vgg11_jpeg20 = np.load(exp_results_folder + \"jpeg20.npz\")\n",
        "vgg11_jpeg40 = np.load(exp_results_folder + \"jpeg40.npz\")\n",
        "vgg11_jpeg60 = np.load(exp_results_folder + \"jpeg60.npz\")\n",
        "\n",
        "res18_bls_res = [res18_bls001, res18_bls003, res18_bls005, res18_bls012, res18_bls033, res18_bls05, res18_bls1]\n",
        "res18_jpeg_res = [res18_jpeg1, res18_jpeg5, res18_jpeg10, res18_jpeg20, res18_jpeg40, res18_jpeg60]\n",
        "\n",
        "vgg11_bls_res = [vgg11_bls001, vgg11_bls003, vgg11_bls005, vgg11_bls012, vgg11_bls033, vgg11_bls05, vgg11_bls1]\n",
        "vgg11_jpeg_res = [vgg11_jpeg1, vgg11_jpeg5, vgg11_jpeg10, vgg11_jpeg20, vgg11_jpeg40, vgg11_jpeg60]"
      ],
      "execution_count": null,
      "outputs": []
    },
    {
      "cell_type": "code",
      "metadata": {
        "id": "kgi1UGWy_FyZ",
        "colab": {
          "base_uri": "https://localhost:8080/",
          "height": 394
        },
        "outputId": "bb5b47ef-b345-4609-c679-9e53746ab4e4"
      },
      "source": [
        "fig, axs = plt.subplots(1,2, sharey=True, figsize=(10,6))\n",
        "axs[0].set_ylabel(\"Test Classification Accuracy\")\n",
        "axs[0].set_xlabel(\"Bit Rate\")\n",
        "axs[1].set_xlabel(\"Bit Rate\")\n",
        "\n",
        "axs[0].plot([0.2612, 0.519, 0.69, 1.08, 1.48712, 1.63, 1.91], [res[\"test_acc\"].max() for res in res18_bls_res], label = \"BLS\")\n",
        "axs[0].plot([0.3559, 0.484, 0.7054, 1.034, 1.50, 1.91], [res[\"test_acc\"].max() for res in res18_jpeg_res], label = \"JPEG\")\n",
        "axs[1].plot([0.2612, 0.519, 0.69, 1.08, 1.48712, 1.63, 1.91], [res[\"test_acc\"].max() for res in vgg11_bls_res], label = \"BLS\")\n",
        "axs[1].plot([0.3559, 0.484, 0.7054, 1.034, 1.50, 1.91], [res[\"test_acc\"].max() for res in vgg11_jpeg_res], label = \"JPEG\")\n",
        "axs[1].hlines(vgg11_base[\"test_acc\"].max(), 0.2612, 1.91, linestyles = \"dashed\", linewidth = 3, label = \"BASE\")\n",
        "axs[0].hlines(res18_base[\"test_acc\"].max(), 0.24, 1.91, linestyles = \"dashed\", linewidth = 3, label = \"BASE\")\n",
        "axs[1].legend(loc = 4)\n",
        "axs[0].grid()\n",
        "axs[1].grid()\n",
        "plt.show()\n"
      ],
      "execution_count": null,
      "outputs": [
        {
          "output_type": "display_data",
          "data": {
            "image/png": "[encoded data removed]",
            "text/plain": [
              "<Figure size 720x432 with 2 Axes>"
            ]
          },
          "metadata": {
            "tags": [],
            "needs_background": "light"
          }
        }
      ]
    },
    {
      "cell_type": "code",
      "metadata": {
        "colab": {
          "base_uri": "https://localhost:8080/"
        },
        "id": "PS0puA0k7i4d",
        "outputId": "d183c59e-9b8b-4639-efbd-58fa95227bd4"
      },
      "source": [
        " [res[\"test_acc\"].max() for res in res18_bls_res]"
      ],
      "execution_count": null,
      "outputs": [
        {
          "output_type": "execute_result",
          "data": {
            "text/plain": [
              "[0.7238, 0.7871, 0.8155, 0.8309, 0.8359, 0.8299, 0.8264]"
            ]
          },
          "metadata": {
            "tags": []
          },
          "execution_count": 15
        }
      ]
    },
    {
      "cell_type": "code",
      "metadata": {
        "id": "TBDhSEWLqH8y",
        "colab": {
          "base_uri": "https://localhost:8080/",
          "height": 285
        },
        "outputId": "b22d82ca-2412-4d12-e70f-afa9483c57b3"
      },
      "source": [
        "bls_ssim = [0.8033611755066715, 0.8925222112445196, 0.9206221111020455, 0.9496784357041587, 0.9606196472540803, 0.9639560478472449, 0.9663533633433264]\n",
        "jpeg_ssim = [0.6282734028726298, 0.7544690408452686, 0.8414159296752199, 0.8952277393712936, 0.9293016265473689, 0.9455897175998793]\n",
        "\n",
        "bls_vals = (np.array([res[\"test_acc\"].max() for res in res18_bls_res]) + np.array([res[\"test_acc\"].max() for res in vgg11_bls_res]))/2\n",
        "jpeg_vals = (np.array([res[\"test_acc\"].max() for res in res18_jpeg_res]) + np.array([res[\"test_acc\"].max() for res in vgg11_jpeg_res]))/2\n",
        "\n",
        "\n",
        "plt.plot(bls_ssim, [res[\"test_acc\"].max() for res in vgg11_bls_res], label = \"BLS\")\n",
        "plt.plot(jpeg_ssim[1:], [res[\"test_acc\"].max()  for res in vgg11_jpeg_res[1:]], label= \"JPEG\")\n",
        "\n",
        "plt.legend()"
      ],
      "execution_count": null,
      "outputs": [
        {
          "output_type": "execute_result",
          "data": {
            "text/plain": [
              "<matplotlib.legend.Legend at 0x7f8d29ea4a90>"
            ]
          },
          "metadata": {
            "tags": []
          },
          "execution_count": 39
        },
        {
          "output_type": "display_data",
          "data": {
            "image/png": "[encoded data removed]",
            "text/plain": [
              "<Figure size 432x288 with 1 Axes>"
            ]
          },
          "metadata": {
            "tags": [],
            "needs_background": "light"
          }
        }
      ]
    },
    {
      "cell_type": "markdown",
      "metadata": {
        "id": "zNQSs4i6B-w2"
      },
      "source": [
        "### SSIM Distortion vs Classification Accuracy"
      ]
    },
    {
      "cell_type": "code",
      "metadata": {
        "id": "ij125zwPb4sB",
        "colab": {
          "base_uri": "https://localhost:8080/",
          "height": 307
        },
        "outputId": "02c2ddd1-5517-43e0-ec0d-310f2bba6457"
      },
      "source": [
        "bls_mse = [0.9941349601460377, 0.9968172396123686, 0.9976149595443059, 0.9984171211007586, 0.9987018717210129, 0.9987740578828856, 0.9988235362040241]\n",
        "jpeg_mse = [0.9856658684675565, 0.9913320319213164, 0.9949674948582476, 0.9969346679246964, 0.9980626119641486, 0.9985651426149198, 0.9991264399549853]\n",
        "\n",
        "plt.xlabel(\"MSE\")\n",
        "plt.plot(bls_mse[:5], [bls1[\"test_acc\"].max(), bls3[\"test_acc\"].max(), bls5[\"test_acc\"].max(),bls12[\"test_acc\"].max(),bls33[\"test_acc\"].max()], label = \"BLS\")\n",
        "plt.plot(jpeg_mse[2:], [jpeg10[\"test_acc\"].max(), jpeg20[\"test_acc\"].max(), jpeg40[\"test_acc\"].max(),jpeg60[\"test_acc\"].max(), jpeg80[\"test_acc\"].max()], label= \"JPEG\")\n",
        "plt.legend()"
      ],
      "execution_count": null,
      "outputs": [
        {
          "output_type": "execute_result",
          "data": {
            "text/plain": [
              "<matplotlib.legend.Legend at 0x7f3cc06f8450>"
            ]
          },
          "metadata": {
            "tags": []
          },
          "execution_count": 24
        },
        {
          "output_type": "display_data",
          "data": {
            "image/png": "[encoded data removed]",
            "text/plain": [
              "<Figure size 432x288 with 1 Axes>"
            ]
          },
          "metadata": {
            "tags": [],
            "needs_background": "light"
          }
        }
      ]
    },
    {
      "cell_type": "code",
      "metadata": {
        "id": "3hPXQ-gCAcNa",
        "colab": {
          "base_uri": "https://localhost:8080/",
          "height": 531
        },
        "outputId": "a679e300-d9d9-4f2f-f159-9f4e963d32c5"
      },
      "source": [
        "bls_psnr = [70.79729360853239, 73.4946560640531, 74.79034571820387, 76.68966325217183, 77.74087980823379, 78.09331479772197, 78.36313089528345]\n",
        "jpeg_psnr = [66.77749201889438, 69.00128812822874, 71.41538589853432, 73.63346919222693, 75.70015984217537, 77.05283569886534, 79.27092744609718]\n",
        "\n",
        "\n",
        "plt.xlabel(\"PSNR\")\n",
        "plt.plot(bls_psnr[:5], [bls1[\"test_acc\"].max(), bls3[\"test_acc\"].max(), bls5[\"test_acc\"].max(),bls12[\"test_acc\"].max(),bls33[\"test_acc\"].max()], label = \"BLS\")\n",
        "plt.plot(jpeg_psnr[1:], [jpeg5[\"test_acc\"].max(), jpeg10[\"test_acc\"].max(), jpeg20[\"test_acc\"].max(), jpeg40[\"test_acc\"].max(),jpeg60[\"test_acc\"].max(), jpeg80[\"test_acc\"].max()], label= \"JPEG\")\n",
        "plt.legend()"
      ],
      "execution_count": null,
      "outputs": [
        {
          "output_type": "error",
          "ename": "NameError",
          "evalue": "ignored",
          "traceback": [
            "\u001b[0;31m---------------------------------------------------------------------------\u001b[0m",
            "\u001b[0;31mNameError\u001b[0m                                 Traceback (most recent call last)",
            "\u001b[0;32m<ipython-input-51-d9594e1fd0e4>\u001b[0m in \u001b[0;36m<module>\u001b[0;34m()\u001b[0m\n\u001b[1;32m      4\u001b[0m \u001b[0;34m\u001b[0m\u001b[0m\n\u001b[1;32m      5\u001b[0m \u001b[0mplt\u001b[0m\u001b[0;34m.\u001b[0m\u001b[0mxlabel\u001b[0m\u001b[0;34m(\u001b[0m\u001b[0;34m\"PSNR\"\u001b[0m\u001b[0;34m)\u001b[0m\u001b[0;34m\u001b[0m\u001b[0;34m\u001b[0m\u001b[0m\n\u001b[0;32m----> 6\u001b[0;31m \u001b[0mplt\u001b[0m\u001b[0;34m.\u001b[0m\u001b[0mplot\u001b[0m\u001b[0;34m(\u001b[0m\u001b[0mbls_psnr\u001b[0m\u001b[0;34m[\u001b[0m\u001b[0;34m:\u001b[0m\u001b[0;36m5\u001b[0m\u001b[0;34m]\u001b[0m\u001b[0;34m,\u001b[0m \u001b[0;34m[\u001b[0m\u001b[0mbls1\u001b[0m\u001b[0;34m[\u001b[0m\u001b[0;34m\"test_acc\"\u001b[0m\u001b[0;34m]\u001b[0m\u001b[0;34m.\u001b[0m\u001b[0mmax\u001b[0m\u001b[0;34m(\u001b[0m\u001b[0;34m)\u001b[0m\u001b[0;34m,\u001b[0m \u001b[0mbls3\u001b[0m\u001b[0;34m[\u001b[0m\u001b[0;34m\"test_acc\"\u001b[0m\u001b[0;34m]\u001b[0m\u001b[0;34m.\u001b[0m\u001b[0mmax\u001b[0m\u001b[0;34m(\u001b[0m\u001b[0;34m)\u001b[0m\u001b[0;34m,\u001b[0m \u001b[0mbls5\u001b[0m\u001b[0;34m[\u001b[0m\u001b[0;34m\"test_acc\"\u001b[0m\u001b[0;34m]\u001b[0m\u001b[0;34m.\u001b[0m\u001b[0mmax\u001b[0m\u001b[0;34m(\u001b[0m\u001b[0;34m)\u001b[0m\u001b[0;34m,\u001b[0m\u001b[0mbls12\u001b[0m\u001b[0;34m[\u001b[0m\u001b[0;34m\"test_acc\"\u001b[0m\u001b[0;34m]\u001b[0m\u001b[0;34m.\u001b[0m\u001b[0mmax\u001b[0m\u001b[0;34m(\u001b[0m\u001b[0;34m)\u001b[0m\u001b[0;34m,\u001b[0m\u001b[0mbls33\u001b[0m\u001b[0;34m[\u001b[0m\u001b[0;34m\"test_acc\"\u001b[0m\u001b[0;34m]\u001b[0m\u001b[0;34m.\u001b[0m\u001b[0mmax\u001b[0m\u001b[0;34m(\u001b[0m\u001b[0;34m)\u001b[0m\u001b[0;34m]\u001b[0m\u001b[0;34m,\u001b[0m \u001b[0mlabel\u001b[0m \u001b[0;34m=\u001b[0m \u001b[0;34m\"BLS\"\u001b[0m\u001b[0;34m)\u001b[0m\u001b[0;34m\u001b[0m\u001b[0;34m\u001b[0m\u001b[0m\n\u001b[0m\u001b[1;32m      7\u001b[0m \u001b[0mplt\u001b[0m\u001b[0;34m.\u001b[0m\u001b[0mplot\u001b[0m\u001b[0;34m(\u001b[0m\u001b[0mjpeg_psnr\u001b[0m\u001b[0;34m[\u001b[0m\u001b[0;36m1\u001b[0m\u001b[0;34m:\u001b[0m\u001b[0;34m]\u001b[0m\u001b[0;34m,\u001b[0m \u001b[0;34m[\u001b[0m\u001b[0mjpeg5\u001b[0m\u001b[0;34m[\u001b[0m\u001b[0;34m\"test_acc\"\u001b[0m\u001b[0;34m]\u001b[0m\u001b[0;34m.\u001b[0m\u001b[0mmax\u001b[0m\u001b[0;34m(\u001b[0m\u001b[0;34m)\u001b[0m\u001b[0;34m,\u001b[0m \u001b[0mjpeg10\u001b[0m\u001b[0;34m[\u001b[0m\u001b[0;34m\"test_acc\"\u001b[0m\u001b[0;34m]\u001b[0m\u001b[0;34m.\u001b[0m\u001b[0mmax\u001b[0m\u001b[0;34m(\u001b[0m\u001b[0;34m)\u001b[0m\u001b[0;34m,\u001b[0m \u001b[0mjpeg20\u001b[0m\u001b[0;34m[\u001b[0m\u001b[0;34m\"test_acc\"\u001b[0m\u001b[0;34m]\u001b[0m\u001b[0;34m.\u001b[0m\u001b[0mmax\u001b[0m\u001b[0;34m(\u001b[0m\u001b[0;34m)\u001b[0m\u001b[0;34m,\u001b[0m \u001b[0mjpeg40\u001b[0m\u001b[0;34m[\u001b[0m\u001b[0;34m\"test_acc\"\u001b[0m\u001b[0;34m]\u001b[0m\u001b[0;34m.\u001b[0m\u001b[0mmax\u001b[0m\u001b[0;34m(\u001b[0m\u001b[0;34m)\u001b[0m\u001b[0;34m,\u001b[0m\u001b[0mjpeg60\u001b[0m\u001b[0;34m[\u001b[0m\u001b[0;34m\"test_acc\"\u001b[0m\u001b[0;34m]\u001b[0m\u001b[0;34m.\u001b[0m\u001b[0mmax\u001b[0m\u001b[0;34m(\u001b[0m\u001b[0;34m)\u001b[0m\u001b[0;34m,\u001b[0m \u001b[0mjpeg80\u001b[0m\u001b[0;34m[\u001b[0m\u001b[0;34m\"test_acc\"\u001b[0m\u001b[0;34m]\u001b[0m\u001b[0;34m.\u001b[0m\u001b[0mmax\u001b[0m\u001b[0;34m(\u001b[0m\u001b[0;34m)\u001b[0m\u001b[0;34m]\u001b[0m\u001b[0;34m,\u001b[0m \u001b[0mlabel\u001b[0m\u001b[0;34m=\u001b[0m \u001b[0;34m\"JPEG\"\u001b[0m\u001b[0;34m)\u001b[0m\u001b[0;34m\u001b[0m\u001b[0;34m\u001b[0m\u001b[0m\n\u001b[1;32m      8\u001b[0m \u001b[0mplt\u001b[0m\u001b[0;34m.\u001b[0m\u001b[0mlegend\u001b[0m\u001b[0;34m(\u001b[0m\u001b[0;34m)\u001b[0m\u001b[0;34m\u001b[0m\u001b[0;34m\u001b[0m\u001b[0m\n",
            "\u001b[0;31mNameError\u001b[0m: name 'bls3' is not defined"
          ]
        },
        {
          "output_type": "display_data",
          "data": {
            "image/png": "[encoded data removed]",
            "text/plain": [
              "<Figure size 432x288 with 1 Axes>"
            ]
          },
          "metadata": {
            "tags": [],
            "needs_background": "light"
          }
        }
      ]
    },
    {
      "cell_type": "code",
      "metadata": {
        "id": "IL9nIQ02rUBN"
      },
      "source": [
        ""
      ],
      "execution_count": null,
      "outputs": []
    }
  ]
}